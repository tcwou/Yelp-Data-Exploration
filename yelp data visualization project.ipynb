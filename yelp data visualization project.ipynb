{
 "cells": [
  {
   "cell_type": "markdown",
   "metadata": {},
   "source": [
    "# Yelp Open Dataset Visualization\n",
    "\n",
    "The aim of the project is to visualize the data contained in the [Yelp open dataset](https://www.yelp.com/dataset). The dataset was converted from JSON format into a SQLite database for efficient querying of the 8.4GB dataset. The output from the SQL queries were brought into python for visualization.\n",
    "\n",
    "The final size of the SQL database is 6.3GB, consisting of 192,609 rows in the business table, 1,637,138 rows in the users table and 6,685,900 rows in the review table.\n"
   ]
  },
  {
   "cell_type": "markdown",
   "metadata": {},
   "source": [
    "# SQLite Database Creation\n",
    "\n",
    "The dataset provided by yelp was split into six JSON files:\n",
    "\n",
    "\n",
    "| File          | Description                           | File Size (kb) |\n",
    "|---------------|---------------------------------------|----------------|\n",
    "| business.json | Business location data and attributes | 138,279,749    |\n",
    "| checkin.json  | User 'Checkins' to businesses         | 408,807,658    |\n",
    "| photo.json    | Photo data for businesses             | 25,661,152     |\n",
    "| review.json   | User reviews of businesses            | 5,347,475,638  |\n",
    "| tip.json      | User tips of businesses               | 244,535,478    |\n",
    "| user.json     | User information                      | 2,485,747,393  |\n",
    "\n",
    "Due to the large file sizes, converting the data from JSON format into a SQL database will allow us to query the data without worrying about memory limitations. We will process only the business, review and user files for the purposes of this project.\n",
    "\n",
    "The documentation for the JSON files can be found [here](https://www.yelp.com/dataset/documentation/main). Exploring the 'business.json' documentation and data reveals three attributes - \"attributes\", \"categories\" and \"hours\" - that have value branches more than one layer deep. Simply flattening these values as a single entry will lead to multiple values in a field, violating the rules of database normalization. Thus, for these attributes separate category tables will be created to list out each possible value and preventing multiple entries. The new tables created are:\n",
    "\n",
    "\"parking\" - parking options available at the business  \n",
    "\n",
    "\"meal\" - meal options serviced by the restaurant e.g. lunch, dinner, dessert  \n",
    "\n",
    "\"hours\" - opening and closing hours for all seven days of the week  \n",
    "\n",
    "\"ambience\" - the ambience of the business e.g. romantic, casual, formal  \n",
    "\n",
    "\"category\" - category of the business e.g. restaurants, French, coffee  \n",
    "\n",
    "\"misc\" - all other attributes that do are not covered in other tables  \n",
    "\n",
    "\n",
    "business.json contains a 'business_id' field that is unique to each entry, thus we will use this as the primary key for the business table. A similar id field can be found for the review.json and user.json files. Thus the final schema is shown below.\n",
    "\n",
    "<img src=\"SQL Schema Yelp.svg\">\n",
    "\n",
    "\n",
    "\n",
    "\n",
    "\n"
   ]
  },
  {
   "cell_type": "code",
   "execution_count": null,
   "metadata": {},
   "outputs": [],
   "source": []
  },
  {
   "cell_type": "code",
   "execution_count": null,
   "metadata": {},
   "outputs": [],
   "source": []
  },
  {
   "cell_type": "code",
   "execution_count": null,
   "metadata": {},
   "outputs": [],
   "source": []
  },
  {
   "cell_type": "code",
   "execution_count": null,
   "metadata": {},
   "outputs": [],
   "source": []
  },
  {
   "cell_type": "code",
   "execution_count": null,
   "metadata": {},
   "outputs": [],
   "source": []
  },
  {
   "cell_type": "code",
   "execution_count": null,
   "metadata": {},
   "outputs": [],
   "source": []
  }
 ],
 "metadata": {
  "kernelspec": {
   "display_name": "Python 3",
   "language": "python",
   "name": "python3"
  },
  "language_info": {
   "codemirror_mode": {
    "name": "ipython",
    "version": 3
   },
   "file_extension": ".py",
   "mimetype": "text/x-python",
   "name": "python",
   "nbconvert_exporter": "python",
   "pygments_lexer": "ipython3",
   "version": "3.7.2"
  }
 },
 "nbformat": 4,
 "nbformat_minor": 2
}
